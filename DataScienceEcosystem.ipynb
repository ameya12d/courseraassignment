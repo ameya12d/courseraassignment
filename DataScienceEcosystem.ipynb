{
  "nbformat": 4,
  "nbformat_minor": 0,
  "metadata": {
    "colab": {
      "provenance": []
    },
    "kernelspec": {
      "name": "python3",
      "display_name": "Python 3"
    },
    "language_info": {
      "name": "python"
    }
  },
  "cells": [
    {
      "cell_type": "code",
      "execution_count": null,
      "metadata": {
        "id": "Q6coDcAldiQD"
      },
      "outputs": [],
      "source": []
    },
    {
      "cell_type": "markdown",
      "source": [
        "# Data Science Tools and Ecosystem\n",
        "\n",
        "> Add blockquote\n",
        "\n",
        "> Add blockquote\n",
        "\n",
        "\n",
        "\n"
      ],
      "metadata": {
        "id": "rzCHDTUjeQMy"
      }
    },
    {
      "cell_type": "markdown",
      "source": [
        "In this notebook, Data Science Tools and Ecosystem are summarized."
      ],
      "metadata": {
        "id": "Ep7PJwefgGCf"
      }
    },
    {
      "cell_type": "markdown",
      "source": [
        "**Objectives:**\n",
        "\n",
        "- List popular languages for Data Science\n",
        "- Understand basic arithmetic operations in Python\n",
        "- Learn how to convert units (e.g., minutes to hours)\n",
        "- Explore tools and ecosystems in Data Science\n",
        "- Practice creating and running markdown and code cells in Jupyter/Colab"
      ],
      "metadata": {
        "id": "q3dgRukpamaz"
      }
    },
    {
      "cell_type": "markdown",
      "source": [
        "Some of the popular languages that Data Scientists use are:\n",
        "\n",
        "1. Python\n",
        "2. R\n",
        "3. SQL\n",
        "4. Julia\n",
        "5. Scala"
      ],
      "metadata": {
        "id": "MzJUWLyZgsqQ"
      }
    },
    {
      "cell_type": "code",
      "source": [],
      "metadata": {
        "id": "6i2AhuBDQXxs"
      },
      "execution_count": null,
      "outputs": []
    },
    {
      "cell_type": "markdown",
      "source": [
        "### Below are a few examples of evaluating arithmetic expressions in Python\n"
      ],
      "metadata": {
        "id": "4bXNoMVENf6I"
      }
    },
    {
      "cell_type": "code",
      "source": [
        "# Addition\n",
        "print(\"Addition:\", 5 + 3)\n",
        "\n",
        "# Subtraction\n",
        "print(\"Subtraction:\", 10 - 4)\n",
        "\n",
        "# Multiplication\n",
        "print(\"Multiplication:\", 7 * 2)\n",
        "\n",
        "# Division\n",
        "print(\"Division:\", 16 / 4)\n",
        "\n",
        "# Exponentiation\n",
        "print(\"Exponentiation:\", 3 ** 2)"
      ],
      "metadata": {
        "colab": {
          "base_uri": "https://localhost:8080/"
        },
        "id": "24hKcLKhQYGs",
        "outputId": "5d151500-6df6-4475-9f9a-73922ffd1871"
      },
      "execution_count": 3,
      "outputs": [
        {
          "output_type": "stream",
          "name": "stdout",
          "text": [
            "Addition: 8\n",
            "Subtraction: 6\n",
            "Multiplication: 14\n",
            "Division: 4.0\n",
            "Exponentiation: 9\n"
          ]
        }
      ]
    },
    {
      "cell_type": "markdown",
      "source": [
        "This a simple arithmetic expression to mutiply then add integers"
      ],
      "metadata": {
        "id": "5Ak-St4MQzJ2"
      }
    },
    {
      "cell_type": "code",
      "source": [
        "result = (3*4)+5"
      ],
      "metadata": {
        "id": "lS6PU_1xQfed"
      },
      "execution_count": 6,
      "outputs": []
    },
    {
      "cell_type": "code",
      "source": [
        "print(result)"
      ],
      "metadata": {
        "colab": {
          "base_uri": "https://localhost:8080/"
        },
        "id": "aPG0d1EbRAOi",
        "outputId": "a4856498-32d0-4dcf-9c36-43f905f509f6"
      },
      "execution_count": 9,
      "outputs": [
        {
          "output_type": "stream",
          "name": "stdout",
          "text": [
            "17\n"
          ]
        }
      ]
    },
    {
      "cell_type": "code",
      "source": [
        "#This will convert 200 minutes to hours by diving by 60\n",
        "minutes = 200\n",
        "hours = minutes / 60\n",
        "print(hours)"
      ],
      "metadata": {
        "colab": {
          "base_uri": "https://localhost:8080/"
        },
        "id": "QjOQbw73RISp",
        "outputId": "07e75ce4-33ee-4f7e-afcc-73598a260e0a"
      },
      "execution_count": 12,
      "outputs": [
        {
          "output_type": "stream",
          "name": "stdout",
          "text": [
            "3.3333333333333335\n"
          ]
        }
      ]
    },
    {
      "cell_type": "markdown",
      "source": [
        "## Author\n",
        "\n",
        "Ameya Deshpande"
      ],
      "metadata": {
        "id": "RkSBKES-SZsH"
      }
    },
    {
      "cell_type": "code",
      "source": [],
      "metadata": {
        "id": "n-MzYpwXbITB"
      },
      "execution_count": null,
      "outputs": []
    },
    {
      "cell_type": "code",
      "source": [],
      "metadata": {
        "id": "dss8k-NCSXAh"
      },
      "execution_count": null,
      "outputs": []
    },
    {
      "cell_type": "code",
      "source": [],
      "metadata": {
        "id": "QbH-yJ3GSQHV"
      },
      "execution_count": null,
      "outputs": []
    },
    {
      "cell_type": "code",
      "source": [],
      "metadata": {
        "id": "dSgKLCOtRGIC"
      },
      "execution_count": null,
      "outputs": []
    },
    {
      "cell_type": "code",
      "source": [],
      "metadata": {
        "id": "su-Hux1vRCvJ"
      },
      "execution_count": null,
      "outputs": []
    },
    {
      "cell_type": "code",
      "source": [],
      "metadata": {
        "id": "1ys5LXqvRASk"
      },
      "execution_count": null,
      "outputs": []
    }
  ]
}